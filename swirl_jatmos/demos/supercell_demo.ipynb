{
  "cells": [
    {
      "metadata": {
        "id": "hbT2_h8T0jiF"
      },
      "cell_type": "markdown",
      "source": [
        "# Example: Supercell simulation\n",
        "\n",
        "[![Open In Colab](https://colab.research.google.com/assets/colab-badge.svg)](https://colab.research.google.com/github/google-research/swirl-jatmos/blob/main/swirl_jatmos/demos/supercell_demo.ipynb)\n",
        "\n",
        "\n",
        "The example in this colab shows a simulation of a supercell in Jatmos.\n",
        "\n",
        "Before you run this Colab notebook, make sure that you choose a hardware accelerator (either TPU or GPU) checking your notebook settings: **Runtime** \u003e **Change runtime type** \u003e **Hardware accelerator**. The default TPU runtime has 8 cores available but only 1 will be used in this demo."
      ]
    },
    {
      "cell_type": "code",
      "execution_count": null,
      "metadata": {
        "id": "zpuEOX_T0jiF"
      },
      "outputs": [],
      "source": [
        "!git clone https://github.com/google-research/swirl-jatmos.git\n",
        "%cd swirl-jatmos/\n",
        "!python3 -m pip install -e ."
      ]
    },
    {
      "metadata": {
        "id": "jhbpjzfj4JB2"
      },
      "cell_type": "code",
      "source": [
        "import sys\n",
        "\n",
        "from absl import flags\n",
        "import jax\n",
        "import numpy as np\n",
        "import matplotlib\n",
        "import matplotlib.pyplot as plt\n",
        "from mpl_toolkits.axes_grid1 import make_axes_locatable\n",
        "matplotlib.style.use('ggplot')\n",
        "ls = 18\n",
        "fs = 18\n",
        "matplotlib.rc('xtick', labelsize=ls)\n",
        "matplotlib.rc('ytick', labelsize=ls)\n",
        "matplotlib.rc('axes', labelsize=fs)\n",
        "\n",
        "from swirl_jatmos import config\n",
        "from swirl_jatmos import convection_config\n",
        "from swirl_jatmos import driver\n",
        "from swirl_jatmos import timestep_control_config\n",
        "from swirl_jatmos.sim_setups import supercell\n",
        "from swirl_jatmos.thermodynamics import water\n",
        "\n",
        "jax.config.update('jax_enable_x64', True)  # Enable 64-bit data types in JAX, required.\n",
        "FLAGS = flags.FLAGS\n",
        "\n",
        "# Parse absl flags\n",
        "FLAGS(sys.argv[:1])\n",
        "\n",
        "FLAGS.print_for_colab = True\n",
        "jax.devices()"
      ],
      "outputs": [],
      "execution_count": null
    },
    {
      "metadata": {
        "id": "BgJGwvbJ4JB2"
      },
      "cell_type": "markdown",
      "source": [
        "## Set the configuration"
      ]
    },
    {
      "metadata": {
        "id": "31RPB5oH4JB2"
      },
      "cell_type": "code",
      "source": [
        "cfg_ext = config.ConfigExternal(\n",
        "    cx=1,\n",
        "    cy=1,\n",
        "    cz=1,\n",
        "    nx=128,\n",
        "    ny=128,\n",
        "    nz=128,\n",
        "    domain_x=(0, 100e3),\n",
        "    domain_y=(0, 100e3),\n",
        "    domain_z=(0, 20e3),\n",
        "    dt=1.5,\n",
        "    timestep_control_cfg=timestep_control_config.TimestepControlConfig(\n",
        "        desired_cfl=0.8,\n",
        "        max_dt=10.0,\n",
        "        min_dt=0.5,\n",
        "        max_change_factor=1.4,\n",
        "        update_interval_steps=4,\n",
        "    ),\n",
        "    convection_cfg=convection_config.ConvectionConfig(\n",
        "        momentum_scheme='weno5_z',\n",
        "        theta_li_scheme='weno5_z',\n",
        "        q_t_scheme='weno5_z',\n",
        "    ),\n",
        "    wp=water.WaterParams(),\n",
        "    use_sgs=False,\n",
        "    poisson_solver_type=config.PoissonSolverType.FAST_DIAGONALIZATION,\n",
        "    aux_output_fields=('q_c',),\n",
        "    viscosity=1e-3,\n",
        "    diffusivity=1e-3,\n",
        "    disable_checkpointing=True,\n",
        ")\n",
        "cfg = config.config_from_config_external(cfg_ext)"
      ],
      "outputs": [],
      "execution_count": null
    },
    {
      "metadata": {
        "id": "uwoCJ9I24JB2"
      },
      "cell_type": "markdown",
      "source": [
        "## Run the simulation"
      ]
    },
    {
      "metadata": {
        "id": "hFlcBURq6owm"
      },
      "cell_type": "code",
      "source": [
        "_, _, _, rho_ref_xxc = supercell.thermodynamic_initial_condition(\n",
        "      cfg.z_c, cfg.wp\n",
        "  )\n",
        "output_dir = '/tmp/abcd'  # Not used when checkpointing is disabled.\n",
        "t_final = 3600.0  # Simulate 60 minutes.\n",
        "sec_per_cycle = 600  # 10 min per cycle.\n",
        "\n",
        "states, aux_output, diagnostics = driver.run_driver(\n",
        "    supercell.init_fn,  # Defines the initial conditions.\n",
        "    np.array(rho_ref_xxc, dtype=np.float64),\n",
        "    output_dir,\n",
        "    t_final,\n",
        "    sec_per_cycle,\n",
        "    cfg,\n",
        ")"
      ],
      "outputs": [],
      "execution_count": null
    },
    {
      "metadata": {
        "id": "vRolBQ0d4JB2"
      },
      "cell_type": "markdown",
      "source": [
        "## Visualize the results"
      ]
    },
    {
      "metadata": {
        "id": "vBng4fEH6owm"
      },
      "cell_type": "code",
      "source": [
        "# Plot the condensate at t=1 hour.\n",
        "\n",
        "hw = 1 # halo width in z.\n",
        "# Center x \u0026 y at 0, and convert x,y,z to km.\n",
        "x_c = np.array(cfg.x_c) / 1e3 - 50\n",
        "y_c = np.array(cfg.y_c) / 1e3 - 50\n",
        "z_c = np.array(cfg.z_c)[hw:-hw] / 1e3\n",
        "\n",
        "XX, YY = np.meshgrid(x_c, y_c, indexing='ij')\n",
        "q_c = np.array(aux_output['q_c'])[:, :, hw:-hw]\n",
        "rho_xxc = np.array(states['rho_xxc'])[:, :, hw:-hw]\n",
        "rho_qc = rho_xxc * q_c\n",
        "\n",
        "rho_q_c_2d = np.mean(rho_qc, axis=2)\n",
        "\n",
        "plt.figure(figsize=(6, 4))\n",
        "plt.pcolormesh(XX, YY, rho_q_c_2d, cmap='viridis')\n",
        "plt.colorbar()\n",
        "plt.title(r'mean_z($\\rho q_c$)')\n",
        "plt.xlabel('x (km)')\n",
        "plt.ylabel('y (km)')\n",
        "\n",
        "rho_q_c_xz = np.mean(rho_qc, axis=1)\n",
        "\n",
        "plt.figure(figsize=(6, 4))\n",
        "XX2, ZZ2 = np.meshgrid(x_c, z_c, indexing='ij')\n",
        "plt.pcolormesh(XX2, ZZ2, rho_q_c_xz, cmap='viridis')\n",
        "plt.colorbar()\n",
        "plt.title(r'mean_y($\\rho q_c$)')\n",
        "plt.xlabel('x (km)')\n",
        "plt.ylabel('z (km)');"
      ],
      "outputs": [],
      "execution_count": null
    }
  ],
  "metadata": {
    "colab": {
      "private_outputs": true
    }
  },
  "nbformat": 4,
  "nbformat_minor": 0
}
